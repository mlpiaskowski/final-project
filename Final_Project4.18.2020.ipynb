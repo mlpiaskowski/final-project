{
 "cells": [
  {
   "cell_type": "code",
   "execution_count": 1,
   "metadata": {},
   "outputs": [],
   "source": [
    "fox = \"FOXED_p_TCGA_b122_128_SNP_N_GenomeWideSNP_6_G02_781896.nocnv_grch38.seg.v2.txt\""
   ]
  },
  {
   "cell_type": "code",
   "execution_count": 2,
   "metadata": {},
   "outputs": [],
   "source": [
    "import numpy as np"
   ]
  },
  {
   "cell_type": "code",
   "execution_count": 3,
   "metadata": {},
   "outputs": [],
   "source": [
    "import pandas as pd"
   ]
  },
  {
   "cell_type": "code",
   "execution_count": 4,
   "metadata": {},
   "outputs": [],
   "source": [
    "fox_bed = pd.read_csv(fox, sep='\\t', header=0)"
   ]
  },
  {
   "cell_type": "code",
   "execution_count": 5,
   "metadata": {},
   "outputs": [
    {
     "data": {
      "text/html": [
       "<div>\n",
       "<style scoped>\n",
       "    .dataframe tbody tr th:only-of-type {\n",
       "        vertical-align: middle;\n",
       "    }\n",
       "\n",
       "    .dataframe tbody tr th {\n",
       "        vertical-align: top;\n",
       "    }\n",
       "\n",
       "    .dataframe thead th {\n",
       "        text-align: right;\n",
       "    }\n",
       "</style>\n",
       "<table border=\"1\" class=\"dataframe\">\n",
       "  <thead>\n",
       "    <tr style=\"text-align: right;\">\n",
       "      <th></th>\n",
       "      <th>GDC_Aliquot</th>\n",
       "      <th>Chromosome</th>\n",
       "      <th>Start</th>\n",
       "      <th>End</th>\n",
       "      <th>Num_Probes</th>\n",
       "      <th>Segment_Mean</th>\n",
       "    </tr>\n",
       "  </thead>\n",
       "  <tbody>\n",
       "    <tr>\n",
       "      <td>0</td>\n",
       "      <td>7d934540-c6ac-44ef-b709-1ded409544c4</td>\n",
       "      <td>1</td>\n",
       "      <td>3301765</td>\n",
       "      <td>102852113</td>\n",
       "      <td>58109</td>\n",
       "      <td>0.0009</td>\n",
       "    </tr>\n",
       "    <tr>\n",
       "      <td>1</td>\n",
       "      <td>7d934540-c6ac-44ef-b709-1ded409544c4</td>\n",
       "      <td>1</td>\n",
       "      <td>102852687</td>\n",
       "      <td>102856163</td>\n",
       "      <td>2</td>\n",
       "      <td>-1.4431</td>\n",
       "    </tr>\n",
       "    <tr>\n",
       "      <td>2</td>\n",
       "      <td>7d934540-c6ac-44ef-b709-1ded409544c4</td>\n",
       "      <td>1</td>\n",
       "      <td>102856785</td>\n",
       "      <td>180779181</td>\n",
       "      <td>29103</td>\n",
       "      <td>-0.0012</td>\n",
       "    </tr>\n",
       "    <tr>\n",
       "      <td>3</td>\n",
       "      <td>7d934540-c6ac-44ef-b709-1ded409544c4</td>\n",
       "      <td>1</td>\n",
       "      <td>180781437</td>\n",
       "      <td>180786525</td>\n",
       "      <td>5</td>\n",
       "      <td>-0.8793</td>\n",
       "    </tr>\n",
       "    <tr>\n",
       "      <td>4</td>\n",
       "      <td>7d934540-c6ac-44ef-b709-1ded409544c4</td>\n",
       "      <td>1</td>\n",
       "      <td>180788492</td>\n",
       "      <td>247650984</td>\n",
       "      <td>42609</td>\n",
       "      <td>0.0011</td>\n",
       "    </tr>\n",
       "  </tbody>\n",
       "</table>\n",
       "</div>"
      ],
      "text/plain": [
       "                            GDC_Aliquot Chromosome      Start        End  \\\n",
       "0  7d934540-c6ac-44ef-b709-1ded409544c4          1    3301765  102852113   \n",
       "1  7d934540-c6ac-44ef-b709-1ded409544c4          1  102852687  102856163   \n",
       "2  7d934540-c6ac-44ef-b709-1ded409544c4          1  102856785  180779181   \n",
       "3  7d934540-c6ac-44ef-b709-1ded409544c4          1  180781437  180786525   \n",
       "4  7d934540-c6ac-44ef-b709-1ded409544c4          1  180788492  247650984   \n",
       "\n",
       "   Num_Probes  Segment_Mean  \n",
       "0       58109        0.0009  \n",
       "1           2       -1.4431  \n",
       "2       29103       -0.0012  \n",
       "3           5       -0.8793  \n",
       "4       42609        0.0011  "
      ]
     },
     "execution_count": 5,
     "metadata": {},
     "output_type": "execute_result"
    }
   ],
   "source": [
    "fox_bed.head()"
   ]
  },
  {
   "cell_type": "code",
   "execution_count": 34,
   "metadata": {},
   "outputs": [],
   "source": [
    "fox_bed1 = pd.DataFrame(fox_bed[['GDC_Aliquot', 'Chromosome', 'Start','End','Segment_Mean']])"
   ]
  },
  {
   "cell_type": "code",
   "execution_count": 35,
   "metadata": {},
   "outputs": [],
   "source": [
    "#filter based on segment mean column values , \n",
    "#filter also based upon length of segment less than 500,000, you want less than 500,000"
   ]
  },
  {
   "cell_type": "code",
   "execution_count": 36,
   "metadata": {},
   "outputs": [],
   "source": [
    "Length = fox_bed['End'] - fox_bed['Start']"
   ]
  },
  {
   "cell_type": "code",
   "execution_count": 37,
   "metadata": {},
   "outputs": [],
   "source": [
    "fox_bed1['Length'] = Length"
   ]
  },
  {
   "cell_type": "code",
   "execution_count": 38,
   "metadata": {},
   "outputs": [
    {
     "data": {
      "text/html": [
       "<div>\n",
       "<style scoped>\n",
       "    .dataframe tbody tr th:only-of-type {\n",
       "        vertical-align: middle;\n",
       "    }\n",
       "\n",
       "    .dataframe tbody tr th {\n",
       "        vertical-align: top;\n",
       "    }\n",
       "\n",
       "    .dataframe thead th {\n",
       "        text-align: right;\n",
       "    }\n",
       "</style>\n",
       "<table border=\"1\" class=\"dataframe\">\n",
       "  <thead>\n",
       "    <tr style=\"text-align: right;\">\n",
       "      <th></th>\n",
       "      <th>GDC_Aliquot</th>\n",
       "      <th>Chromosome</th>\n",
       "      <th>Start</th>\n",
       "      <th>End</th>\n",
       "      <th>Segment_Mean</th>\n",
       "      <th>Length</th>\n",
       "    </tr>\n",
       "  </thead>\n",
       "  <tbody>\n",
       "    <tr>\n",
       "      <td>0</td>\n",
       "      <td>7d934540-c6ac-44ef-b709-1ded409544c4</td>\n",
       "      <td>1</td>\n",
       "      <td>3301765</td>\n",
       "      <td>102852113</td>\n",
       "      <td>0.0009</td>\n",
       "      <td>99550348</td>\n",
       "    </tr>\n",
       "    <tr>\n",
       "      <td>1</td>\n",
       "      <td>7d934540-c6ac-44ef-b709-1ded409544c4</td>\n",
       "      <td>1</td>\n",
       "      <td>102852687</td>\n",
       "      <td>102856163</td>\n",
       "      <td>-1.4431</td>\n",
       "      <td>3476</td>\n",
       "    </tr>\n",
       "    <tr>\n",
       "      <td>2</td>\n",
       "      <td>7d934540-c6ac-44ef-b709-1ded409544c4</td>\n",
       "      <td>1</td>\n",
       "      <td>102856785</td>\n",
       "      <td>180779181</td>\n",
       "      <td>-0.0012</td>\n",
       "      <td>77922396</td>\n",
       "    </tr>\n",
       "    <tr>\n",
       "      <td>3</td>\n",
       "      <td>7d934540-c6ac-44ef-b709-1ded409544c4</td>\n",
       "      <td>1</td>\n",
       "      <td>180781437</td>\n",
       "      <td>180786525</td>\n",
       "      <td>-0.8793</td>\n",
       "      <td>5088</td>\n",
       "    </tr>\n",
       "    <tr>\n",
       "      <td>4</td>\n",
       "      <td>7d934540-c6ac-44ef-b709-1ded409544c4</td>\n",
       "      <td>1</td>\n",
       "      <td>180788492</td>\n",
       "      <td>247650984</td>\n",
       "      <td>0.0011</td>\n",
       "      <td>66862492</td>\n",
       "    </tr>\n",
       "  </tbody>\n",
       "</table>\n",
       "</div>"
      ],
      "text/plain": [
       "                            GDC_Aliquot Chromosome      Start        End  \\\n",
       "0  7d934540-c6ac-44ef-b709-1ded409544c4          1    3301765  102852113   \n",
       "1  7d934540-c6ac-44ef-b709-1ded409544c4          1  102852687  102856163   \n",
       "2  7d934540-c6ac-44ef-b709-1ded409544c4          1  102856785  180779181   \n",
       "3  7d934540-c6ac-44ef-b709-1ded409544c4          1  180781437  180786525   \n",
       "4  7d934540-c6ac-44ef-b709-1ded409544c4          1  180788492  247650984   \n",
       "\n",
       "   Segment_Mean    Length  \n",
       "0        0.0009  99550348  \n",
       "1       -1.4431      3476  \n",
       "2       -0.0012  77922396  \n",
       "3       -0.8793      5088  \n",
       "4        0.0011  66862492  "
      ]
     },
     "execution_count": 38,
     "metadata": {},
     "output_type": "execute_result"
    }
   ],
   "source": [
    "fox_bed1.head()"
   ]
  },
  {
   "cell_type": "code",
   "execution_count": 39,
   "metadata": {},
   "outputs": [],
   "source": [
    "Length_less = fox_bed1['Length'] <= 500000"
   ]
  },
  {
   "cell_type": "code",
   "execution_count": 40,
   "metadata": {},
   "outputs": [
    {
     "data": {
      "text/html": [
       "<div>\n",
       "<style scoped>\n",
       "    .dataframe tbody tr th:only-of-type {\n",
       "        vertical-align: middle;\n",
       "    }\n",
       "\n",
       "    .dataframe tbody tr th {\n",
       "        vertical-align: top;\n",
       "    }\n",
       "\n",
       "    .dataframe thead th {\n",
       "        text-align: right;\n",
       "    }\n",
       "</style>\n",
       "<table border=\"1\" class=\"dataframe\">\n",
       "  <thead>\n",
       "    <tr style=\"text-align: right;\">\n",
       "      <th></th>\n",
       "      <th>GDC_Aliquot</th>\n",
       "      <th>Chromosome</th>\n",
       "      <th>Start</th>\n",
       "      <th>End</th>\n",
       "      <th>Segment_Mean</th>\n",
       "      <th>Length</th>\n",
       "    </tr>\n",
       "  </thead>\n",
       "  <tbody>\n",
       "    <tr>\n",
       "      <td>0</td>\n",
       "      <td>7d934540-c6ac-44ef-b709-1ded409544c4</td>\n",
       "      <td>1</td>\n",
       "      <td>3301765</td>\n",
       "      <td>102852113</td>\n",
       "      <td>0.0009</td>\n",
       "      <td>99550348</td>\n",
       "    </tr>\n",
       "    <tr>\n",
       "      <td>1</td>\n",
       "      <td>7d934540-c6ac-44ef-b709-1ded409544c4</td>\n",
       "      <td>1</td>\n",
       "      <td>102852687</td>\n",
       "      <td>102856163</td>\n",
       "      <td>-1.4431</td>\n",
       "      <td>3476</td>\n",
       "    </tr>\n",
       "    <tr>\n",
       "      <td>2</td>\n",
       "      <td>7d934540-c6ac-44ef-b709-1ded409544c4</td>\n",
       "      <td>1</td>\n",
       "      <td>102856785</td>\n",
       "      <td>180779181</td>\n",
       "      <td>-0.0012</td>\n",
       "      <td>77922396</td>\n",
       "    </tr>\n",
       "    <tr>\n",
       "      <td>3</td>\n",
       "      <td>7d934540-c6ac-44ef-b709-1ded409544c4</td>\n",
       "      <td>1</td>\n",
       "      <td>180781437</td>\n",
       "      <td>180786525</td>\n",
       "      <td>-0.8793</td>\n",
       "      <td>5088</td>\n",
       "    </tr>\n",
       "    <tr>\n",
       "      <td>4</td>\n",
       "      <td>7d934540-c6ac-44ef-b709-1ded409544c4</td>\n",
       "      <td>1</td>\n",
       "      <td>180788492</td>\n",
       "      <td>247650984</td>\n",
       "      <td>0.0011</td>\n",
       "      <td>66862492</td>\n",
       "    </tr>\n",
       "  </tbody>\n",
       "</table>\n",
       "</div>"
      ],
      "text/plain": [
       "                            GDC_Aliquot Chromosome      Start        End  \\\n",
       "0  7d934540-c6ac-44ef-b709-1ded409544c4          1    3301765  102852113   \n",
       "1  7d934540-c6ac-44ef-b709-1ded409544c4          1  102852687  102856163   \n",
       "2  7d934540-c6ac-44ef-b709-1ded409544c4          1  102856785  180779181   \n",
       "3  7d934540-c6ac-44ef-b709-1ded409544c4          1  180781437  180786525   \n",
       "4  7d934540-c6ac-44ef-b709-1ded409544c4          1  180788492  247650984   \n",
       "\n",
       "   Segment_Mean    Length  \n",
       "0        0.0009  99550348  \n",
       "1       -1.4431      3476  \n",
       "2       -0.0012  77922396  \n",
       "3       -0.8793      5088  \n",
       "4        0.0011  66862492  "
      ]
     },
     "execution_count": 40,
     "metadata": {},
     "output_type": "execute_result"
    }
   ],
   "source": [
    "fox_bed1.head()"
   ]
  },
  {
   "cell_type": "code",
   "execution_count": 41,
   "metadata": {},
   "outputs": [],
   "source": [
    "fox_bed2 = fox_bed1[Length_less]"
   ]
  },
  {
   "cell_type": "code",
   "execution_count": 42,
   "metadata": {},
   "outputs": [
    {
     "data": {
      "text/html": [
       "<div>\n",
       "<style scoped>\n",
       "    .dataframe tbody tr th:only-of-type {\n",
       "        vertical-align: middle;\n",
       "    }\n",
       "\n",
       "    .dataframe tbody tr th {\n",
       "        vertical-align: top;\n",
       "    }\n",
       "\n",
       "    .dataframe thead th {\n",
       "        text-align: right;\n",
       "    }\n",
       "</style>\n",
       "<table border=\"1\" class=\"dataframe\">\n",
       "  <thead>\n",
       "    <tr style=\"text-align: right;\">\n",
       "      <th></th>\n",
       "      <th>GDC_Aliquot</th>\n",
       "      <th>Chromosome</th>\n",
       "      <th>Start</th>\n",
       "      <th>End</th>\n",
       "      <th>Segment_Mean</th>\n",
       "      <th>Length</th>\n",
       "    </tr>\n",
       "  </thead>\n",
       "  <tbody>\n",
       "    <tr>\n",
       "      <td>1</td>\n",
       "      <td>7d934540-c6ac-44ef-b709-1ded409544c4</td>\n",
       "      <td>1</td>\n",
       "      <td>102852687</td>\n",
       "      <td>102856163</td>\n",
       "      <td>-1.4431</td>\n",
       "      <td>3476</td>\n",
       "    </tr>\n",
       "    <tr>\n",
       "      <td>3</td>\n",
       "      <td>7d934540-c6ac-44ef-b709-1ded409544c4</td>\n",
       "      <td>1</td>\n",
       "      <td>180781437</td>\n",
       "      <td>180786525</td>\n",
       "      <td>-0.8793</td>\n",
       "      <td>5088</td>\n",
       "    </tr>\n",
       "    <tr>\n",
       "      <td>7</td>\n",
       "      <td>7d934540-c6ac-44ef-b709-1ded409544c4</td>\n",
       "      <td>3</td>\n",
       "      <td>3341411</td>\n",
       "      <td>3341522</td>\n",
       "      <td>-1.8245</td>\n",
       "      <td>111</td>\n",
       "    </tr>\n",
       "    <tr>\n",
       "      <td>9</td>\n",
       "      <td>7d934540-c6ac-44ef-b709-1ded409544c4</td>\n",
       "      <td>3</td>\n",
       "      <td>9091506</td>\n",
       "      <td>9092198</td>\n",
       "      <td>-1.5152</td>\n",
       "      <td>692</td>\n",
       "    </tr>\n",
       "    <tr>\n",
       "      <td>11</td>\n",
       "      <td>7d934540-c6ac-44ef-b709-1ded409544c4</td>\n",
       "      <td>3</td>\n",
       "      <td>62076946</td>\n",
       "      <td>62078050</td>\n",
       "      <td>-1.7288</td>\n",
       "      <td>1104</td>\n",
       "    </tr>\n",
       "  </tbody>\n",
       "</table>\n",
       "</div>"
      ],
      "text/plain": [
       "                             GDC_Aliquot Chromosome      Start        End  \\\n",
       "1   7d934540-c6ac-44ef-b709-1ded409544c4          1  102852687  102856163   \n",
       "3   7d934540-c6ac-44ef-b709-1ded409544c4          1  180781437  180786525   \n",
       "7   7d934540-c6ac-44ef-b709-1ded409544c4          3    3341411    3341522   \n",
       "9   7d934540-c6ac-44ef-b709-1ded409544c4          3    9091506    9092198   \n",
       "11  7d934540-c6ac-44ef-b709-1ded409544c4          3   62076946   62078050   \n",
       "\n",
       "    Segment_Mean  Length  \n",
       "1        -1.4431    3476  \n",
       "3        -0.8793    5088  \n",
       "7        -1.8245     111  \n",
       "9        -1.5152     692  \n",
       "11       -1.7288    1104  "
      ]
     },
     "execution_count": 42,
     "metadata": {},
     "output_type": "execute_result"
    }
   ],
   "source": [
    "fox_bed2.head()"
   ]
  },
  {
   "cell_type": "code",
   "execution_count": 43,
   "metadata": {},
   "outputs": [],
   "source": [
    "copy_gain = fox_bed2['Segment_Mean'] >= 0.4"
   ]
  },
  {
   "cell_type": "code",
   "execution_count": 44,
   "metadata": {},
   "outputs": [],
   "source": [
    "fox_bed3 = fox_bed2[copy_gain]"
   ]
  },
  {
   "cell_type": "code",
   "execution_count": 45,
   "metadata": {},
   "outputs": [
    {
     "data": {
      "text/html": [
       "<div>\n",
       "<style scoped>\n",
       "    .dataframe tbody tr th:only-of-type {\n",
       "        vertical-align: middle;\n",
       "    }\n",
       "\n",
       "    .dataframe tbody tr th {\n",
       "        vertical-align: top;\n",
       "    }\n",
       "\n",
       "    .dataframe thead th {\n",
       "        text-align: right;\n",
       "    }\n",
       "</style>\n",
       "<table border=\"1\" class=\"dataframe\">\n",
       "  <thead>\n",
       "    <tr style=\"text-align: right;\">\n",
       "      <th></th>\n",
       "      <th>GDC_Aliquot</th>\n",
       "      <th>Chromosome</th>\n",
       "      <th>Start</th>\n",
       "      <th>End</th>\n",
       "      <th>Segment_Mean</th>\n",
       "      <th>Length</th>\n",
       "    </tr>\n",
       "  </thead>\n",
       "  <tbody>\n",
       "    <tr>\n",
       "      <td>33</td>\n",
       "      <td>7d934540-c6ac-44ef-b709-1ded409544c4</td>\n",
       "      <td>11</td>\n",
       "      <td>126679350</td>\n",
       "      <td>126679362</td>\n",
       "      <td>1.6330</td>\n",
       "      <td>12</td>\n",
       "    </tr>\n",
       "    <tr>\n",
       "      <td>52</td>\n",
       "      <td>7d934540-c6ac-44ef-b709-1ded409544c4</td>\n",
       "      <td>16</td>\n",
       "      <td>54837218</td>\n",
       "      <td>54843565</td>\n",
       "      <td>0.6201</td>\n",
       "      <td>6347</td>\n",
       "    </tr>\n",
       "    <tr>\n",
       "      <td>54</td>\n",
       "      <td>7d934540-c6ac-44ef-b709-1ded409544c4</td>\n",
       "      <td>16</td>\n",
       "      <td>60135042</td>\n",
       "      <td>60193214</td>\n",
       "      <td>0.5765</td>\n",
       "      <td>58172</td>\n",
       "    </tr>\n",
       "  </tbody>\n",
       "</table>\n",
       "</div>"
      ],
      "text/plain": [
       "                             GDC_Aliquot Chromosome      Start        End  \\\n",
       "33  7d934540-c6ac-44ef-b709-1ded409544c4         11  126679350  126679362   \n",
       "52  7d934540-c6ac-44ef-b709-1ded409544c4         16   54837218   54843565   \n",
       "54  7d934540-c6ac-44ef-b709-1ded409544c4         16   60135042   60193214   \n",
       "\n",
       "    Segment_Mean  Length  \n",
       "33        1.6330      12  \n",
       "52        0.6201    6347  \n",
       "54        0.5765   58172  "
      ]
     },
     "execution_count": 45,
     "metadata": {},
     "output_type": "execute_result"
    }
   ],
   "source": [
    "fox_bed3.head(20)"
   ]
  },
  {
   "cell_type": "code",
   "execution_count": 148,
   "metadata": {},
   "outputs": [
    {
     "data": {
      "text/plain": [
       "3"
      ]
     },
     "execution_count": 148,
     "metadata": {},
     "output_type": "execute_result"
    }
   ],
   "source": [
    "len(fox_bed3)"
   ]
  },
  {
   "cell_type": "code",
   "execution_count": 47,
   "metadata": {},
   "outputs": [],
   "source": [
    "import Bio"
   ]
  },
  {
   "cell_type": "code",
   "execution_count": 48,
   "metadata": {},
   "outputs": [],
   "source": [
    "from Bio import SeqIO"
   ]
  },
  {
   "cell_type": "code",
   "execution_count": 68,
   "metadata": {},
   "outputs": [
    {
     "name": "stdout",
     "output_type": "stream",
     "text": [
      "1.76\n"
     ]
    }
   ],
   "source": [
    "print(Bio.__version__)"
   ]
  },
  {
   "cell_type": "code",
   "execution_count": null,
   "metadata": {},
   "outputs": [],
   "source": [
    "#use slicing to find the sequence and the turn into a "
   ]
  },
  {
   "cell_type": "code",
   "execution_count": null,
   "metadata": {},
   "outputs": [],
   "source": [
    "# for loop ?\n",
    "# appending to an empty dataframe\n"
   ]
  },
  {
   "cell_type": "markdown",
   "metadata": {},
   "source": [
    " *_genomic.fna.gz file\n",
    "       FASTA format of the genomic sequence(s) in the assembly. Repetitive \n",
    "       sequences in eukaryotes are masked to lower-case (see below).\n",
    "       The FASTA title is formatted as sequence accession.version plus \n",
    "       description. The genomic.fna.gz file includes all top-level sequences in\n",
    "       the assembly (chromosomes, plasmids, organelles, unlocalized scaffolds,\n",
    "       unplaced scaffolds, and any alternate loci or patch scaffolds). Scaffolds\n",
    "       that are part of the chromosomes are not included because they are\n",
    "       redundant with the chromosome sequences; sequences for these placed \n",
    "       scaffolds are provided under the assembly_structure directory.\n"
   ]
  },
  {
   "cell_type": "code",
   "execution_count": 111,
   "metadata": {},
   "outputs": [
    {
     "name": "stdout",
     "output_type": "stream",
     "text": [
      "ID: chr11\n",
      "Name: chr11\n",
      "Description: chr11  AC:CM000673.2  gi:568336013  LN:135086622  rl:Chromosome  M5:1511375dc2dd1b633af8cf439ae90cec  AS:GRCh38\n",
      "Number of features: 0\n",
      "Seq('NNNNNNNNNNNNNNNNNNNNNNNNNNNNNNNNNNNNNNNNNNNNNNNNNNNNNN...NNN', SingleLetterAlphabet())\n"
     ]
    }
   ],
   "source": [
    "record_dict = SeqIO.to_dict(SeqIO.parse(\"GRCh38_no_alt_analysis_set_GCA_000001405.15.fasta\", \"fasta\"))\n",
    "print(record_dict['chr11'])  # use any record ID"
   ]
  },
  {
   "cell_type": "code",
   "execution_count": 145,
   "metadata": {},
   "outputs": [],
   "source": [
    "# parse faste file and turn into dictionary\n",
    "records = SeqIO.to_dict(SeqIO.parse(open('GRCh38_no_alt_analysis_set_GCA_000001405.15.fasta'), 'fasta'))"
   ]
  },
  {
   "cell_type": "code",
   "execution_count": 194,
   "metadata": {},
   "outputs": [],
   "source": [
    "from Bio import SeqIO\n",
    "from Bio.Seq import Seq\n",
    "from Bio.SeqRecord import SeqRecord"
   ]
  },
  {
   "cell_type": "code",
   "execution_count": 233,
   "metadata": {},
   "outputs": [
    {
     "data": {
      "text/html": [
       "<div>\n",
       "<style scoped>\n",
       "    .dataframe tbody tr th:only-of-type {\n",
       "        vertical-align: middle;\n",
       "    }\n",
       "\n",
       "    .dataframe tbody tr th {\n",
       "        vertical-align: top;\n",
       "    }\n",
       "\n",
       "    .dataframe thead th {\n",
       "        text-align: right;\n",
       "    }\n",
       "</style>\n",
       "<table border=\"1\" class=\"dataframe\">\n",
       "  <thead>\n",
       "    <tr style=\"text-align: right;\">\n",
       "      <th></th>\n",
       "      <th>Chromosome</th>\n",
       "      <th>Start</th>\n",
       "      <th>End</th>\n",
       "    </tr>\n",
       "  </thead>\n",
       "  <tbody>\n",
       "    <tr>\n",
       "      <td>33</td>\n",
       "      <td>11</td>\n",
       "      <td>126679350</td>\n",
       "      <td>126679362</td>\n",
       "    </tr>\n",
       "    <tr>\n",
       "      <td>52</td>\n",
       "      <td>16</td>\n",
       "      <td>54837218</td>\n",
       "      <td>54843565</td>\n",
       "    </tr>\n",
       "    <tr>\n",
       "      <td>54</td>\n",
       "      <td>16</td>\n",
       "      <td>60135042</td>\n",
       "      <td>60193214</td>\n",
       "    </tr>\n",
       "  </tbody>\n",
       "</table>\n",
       "</div>"
      ],
      "text/plain": [
       "   Chromosome      Start        End\n",
       "33         11  126679350  126679362\n",
       "52         16   54837218   54843565\n",
       "54         16   60135042   60193214"
      ]
     },
     "execution_count": 233,
     "metadata": {},
     "output_type": "execute_result"
    }
   ],
   "source": [
    "positions = fox_bed3.loc[:,['Chromosome', 'Start', 'End']]\n",
    "positions.head()"
   ]
  },
  {
   "cell_type": "code",
   "execution_count": 204,
   "metadata": {},
   "outputs": [],
   "source": [
    "# read names and postions from dataframe\n",
    "# parse fasta file and turn into dictionary\n",
    "#search for sequences\n",
    "#add to dataframe"
   ]
  },
  {
   "cell_type": "code",
   "execution_count": 192,
   "metadata": {},
   "outputs": [
    {
     "ename": "NameError",
     "evalue": "name 'Sequence' is not defined",
     "output_type": "error",
     "traceback": [
      "\u001b[0;31m---------------------------------------------------------------------------\u001b[0m",
      "\u001b[0;31mNameError\u001b[0m                                 Traceback (most recent call last)",
      "\u001b[0;32m<ipython-input-192-913e20a2f1bc>\u001b[0m in \u001b[0;36m<module>\u001b[0;34m\u001b[0m\n\u001b[0;32m----> 1\u001b[0;31m \u001b[0mfox_bed3\u001b[0m\u001b[0;34m[\u001b[0m\u001b[0;34m'Sequence'\u001b[0m\u001b[0;34m]\u001b[0m \u001b[0;34m=\u001b[0m \u001b[0mSequence\u001b[0m\u001b[0;34m\u001b[0m\u001b[0;34m\u001b[0m\u001b[0m\n\u001b[0m",
      "\u001b[0;31mNameError\u001b[0m: name 'Sequence' is not defined"
     ]
    }
   ],
   "source": [
    "fox_bed3['Sequence'] = Sequence"
   ]
  },
  {
   "cell_type": "code",
   "execution_count": null,
   "metadata": {},
   "outputs": [],
   "source": [
    "from Bio import SeqIO\n",
    "from Bio.Seq import Seq\n",
    "from Bio.SeqRecord import SeqRecord\n",
    "from collections import defaultdict\n",
    "\n",
    "# read names and postions from bed file\n",
    "positions = defaultdict(list)\n",
    "with open('positions.bed') as f:\n",
    "    for line in f:\n",
    "        name, start, stop = line.split()\n",
    "        positions[name].append((int(start), int(stop)))\n",
    "\n",
    "# parse faste file and turn into dictionary\n",
    "records = SeqIO.to_dict(SeqIO.parse(open('sequences.fasta'), 'fasta'))\n",
    "\n",
    "# search for short sequences\n",
    "short_seq_records = []\n",
    "for name in positions:\n",
    "    for (start, stop) in positions[name]:\n",
    "        long_seq_record = records[name]\n",
    "        long_seq = long_seq_record.seq\n",
    "        alphabet = long_seq.alphabet\n",
    "        short_seq = str(long_seq)[start-1:stop]\n",
    "        short_seq_record = SeqRecord(Seq(short_seq, alphabet), id=name, description='')\n",
    "        short_seq_records.append(short_seq_record)\n",
    "\n",
    "# write to file\n",
    "with open('output.fasta', 'w') as f:\n",
    "    SeqIO.write(short_seq_records, f, 'fasta')"
   ]
  }
 ],
 "metadata": {
  "kernelspec": {
   "display_name": "Python 3",
   "language": "python",
   "name": "python3"
  },
  "language_info": {
   "codemirror_mode": {
    "name": "ipython",
    "version": 3
   },
   "file_extension": ".py",
   "mimetype": "text/x-python",
   "name": "python",
   "nbconvert_exporter": "python",
   "pygments_lexer": "ipython3",
   "version": "3.7.4"
  }
 },
 "nbformat": 4,
 "nbformat_minor": 4
}
