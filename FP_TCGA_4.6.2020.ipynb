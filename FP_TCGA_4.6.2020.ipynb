{
 "cells": [
  {
   "cell_type": "markdown",
   "metadata": {},
   "source": [
    "I downloaded a file from TCGA, a bladder cancer copy numbar variant file. It is in txt format and I want to convert it to bed format."
   ]
  },
  {
   "cell_type": "code",
   "execution_count": 13,
   "metadata": {},
   "outputs": [],
   "source": [
    "fox = \"FOXED_p_TCGA_b122_128_SNP_N_GenomeWideSNP_6_G02_781896.nocnv_grch38.seg.v2.txt\""
   ]
  },
  {
   "cell_type": "code",
   "execution_count": 17,
   "metadata": {},
   "outputs": [],
   "source": [
    "import pandas as pd"
   ]
  },
  {
   "cell_type": "code",
   "execution_count": 33,
   "metadata": {},
   "outputs": [],
   "source": [
    "#pd.read_csv(‘file’name, sep='\\t', header=0)"
   ]
  },
  {
   "cell_type": "code",
   "execution_count": 19,
   "metadata": {},
   "outputs": [],
   "source": [
    "fox_bed = pd.read_csv(fox, sep='\\t', header=0)"
   ]
  },
  {
   "cell_type": "code",
   "execution_count": 20,
   "metadata": {},
   "outputs": [
    {
     "data": {
      "text/html": [
       "<div>\n",
       "<style scoped>\n",
       "    .dataframe tbody tr th:only-of-type {\n",
       "        vertical-align: middle;\n",
       "    }\n",
       "\n",
       "    .dataframe tbody tr th {\n",
       "        vertical-align: top;\n",
       "    }\n",
       "\n",
       "    .dataframe thead th {\n",
       "        text-align: right;\n",
       "    }\n",
       "</style>\n",
       "<table border=\"1\" class=\"dataframe\">\n",
       "  <thead>\n",
       "    <tr style=\"text-align: right;\">\n",
       "      <th></th>\n",
       "      <th>GDC_Aliquot</th>\n",
       "      <th>Chromosome</th>\n",
       "      <th>Start</th>\n",
       "      <th>End</th>\n",
       "      <th>Num_Probes</th>\n",
       "      <th>Segment_Mean</th>\n",
       "    </tr>\n",
       "  </thead>\n",
       "  <tbody>\n",
       "    <tr>\n",
       "      <td>0</td>\n",
       "      <td>7d934540-c6ac-44ef-b709-1ded409544c4</td>\n",
       "      <td>1</td>\n",
       "      <td>3301765</td>\n",
       "      <td>102852113</td>\n",
       "      <td>58109</td>\n",
       "      <td>0.0009</td>\n",
       "    </tr>\n",
       "    <tr>\n",
       "      <td>1</td>\n",
       "      <td>7d934540-c6ac-44ef-b709-1ded409544c4</td>\n",
       "      <td>1</td>\n",
       "      <td>102852687</td>\n",
       "      <td>102856163</td>\n",
       "      <td>2</td>\n",
       "      <td>-1.4431</td>\n",
       "    </tr>\n",
       "    <tr>\n",
       "      <td>2</td>\n",
       "      <td>7d934540-c6ac-44ef-b709-1ded409544c4</td>\n",
       "      <td>1</td>\n",
       "      <td>102856785</td>\n",
       "      <td>180779181</td>\n",
       "      <td>29103</td>\n",
       "      <td>-0.0012</td>\n",
       "    </tr>\n",
       "    <tr>\n",
       "      <td>3</td>\n",
       "      <td>7d934540-c6ac-44ef-b709-1ded409544c4</td>\n",
       "      <td>1</td>\n",
       "      <td>180781437</td>\n",
       "      <td>180786525</td>\n",
       "      <td>5</td>\n",
       "      <td>-0.8793</td>\n",
       "    </tr>\n",
       "    <tr>\n",
       "      <td>4</td>\n",
       "      <td>7d934540-c6ac-44ef-b709-1ded409544c4</td>\n",
       "      <td>1</td>\n",
       "      <td>180788492</td>\n",
       "      <td>247650984</td>\n",
       "      <td>42609</td>\n",
       "      <td>0.0011</td>\n",
       "    </tr>\n",
       "  </tbody>\n",
       "</table>\n",
       "</div>"
      ],
      "text/plain": [
       "                            GDC_Aliquot Chromosome      Start        End  \\\n",
       "0  7d934540-c6ac-44ef-b709-1ded409544c4          1    3301765  102852113   \n",
       "1  7d934540-c6ac-44ef-b709-1ded409544c4          1  102852687  102856163   \n",
       "2  7d934540-c6ac-44ef-b709-1ded409544c4          1  102856785  180779181   \n",
       "3  7d934540-c6ac-44ef-b709-1ded409544c4          1  180781437  180786525   \n",
       "4  7d934540-c6ac-44ef-b709-1ded409544c4          1  180788492  247650984   \n",
       "\n",
       "   Num_Probes  Segment_Mean  \n",
       "0       58109        0.0009  \n",
       "1           2       -1.4431  \n",
       "2       29103       -0.0012  \n",
       "3           5       -0.8793  \n",
       "4       42609        0.0011  "
      ]
     },
     "execution_count": 20,
     "metadata": {},
     "output_type": "execute_result"
    }
   ],
   "source": [
    "fox_bed.head()"
   ]
  },
  {
   "cell_type": "markdown",
   "metadata": {},
   "source": [
    "read in an entire directory, \n",
    "use a python library that includes a function called glob"
   ]
  },
  {
   "cell_type": "markdown",
   "metadata": {},
   "source": [
    "log base two fold change \n",
    "negative one is a loss of A copy\n",
    "positive one is a gain of A copy"
   ]
  },
  {
   "cell_type": "code",
   "execution_count": 21,
   "metadata": {},
   "outputs": [],
   "source": [
    "#no change or a loss can be filtered out"
   ]
  },
  {
   "cell_type": "code",
   "execution_count": 22,
   "metadata": {},
   "outputs": [],
   "source": [
    "# smaller than half a million base pairs gets filtered out"
   ]
  },
  {
   "cell_type": "code",
   "execution_count": 29,
   "metadata": {},
   "outputs": [],
   "source": [
    "snows = \"SNOWS_p_TCGA_Batch_309_310_NSP_GenomeWideSNP_6_A08_1362082.nocnv_grch38.seg.v2.txt\""
   ]
  },
  {
   "cell_type": "code",
   "execution_count": 30,
   "metadata": {},
   "outputs": [],
   "source": [
    "snows_bed = pd.read_csv(snows, sep='\\t', header=0)"
   ]
  },
  {
   "cell_type": "code",
   "execution_count": 32,
   "metadata": {},
   "outputs": [
    {
     "data": {
      "text/html": [
       "<div>\n",
       "<style scoped>\n",
       "    .dataframe tbody tr th:only-of-type {\n",
       "        vertical-align: middle;\n",
       "    }\n",
       "\n",
       "    .dataframe tbody tr th {\n",
       "        vertical-align: top;\n",
       "    }\n",
       "\n",
       "    .dataframe thead th {\n",
       "        text-align: right;\n",
       "    }\n",
       "</style>\n",
       "<table border=\"1\" class=\"dataframe\">\n",
       "  <thead>\n",
       "    <tr style=\"text-align: right;\">\n",
       "      <th></th>\n",
       "      <th>GDC_Aliquot</th>\n",
       "      <th>Chromosome</th>\n",
       "      <th>Start</th>\n",
       "      <th>End</th>\n",
       "      <th>Num_Probes</th>\n",
       "      <th>Segment_Mean</th>\n",
       "    </tr>\n",
       "  </thead>\n",
       "  <tbody>\n",
       "    <tr>\n",
       "      <td>0</td>\n",
       "      <td>8e5b2e10-a429-49d7-ae1e-2f18791d1e9a</td>\n",
       "      <td>1</td>\n",
       "      <td>3301765</td>\n",
       "      <td>155210675</td>\n",
       "      <td>70457</td>\n",
       "      <td>0.0181</td>\n",
       "    </tr>\n",
       "    <tr>\n",
       "      <td>1</td>\n",
       "      <td>8e5b2e10-a429-49d7-ae1e-2f18791d1e9a</td>\n",
       "      <td>1</td>\n",
       "      <td>155241876</td>\n",
       "      <td>155429147</td>\n",
       "      <td>102</td>\n",
       "      <td>0.5199</td>\n",
       "    </tr>\n",
       "    <tr>\n",
       "      <td>2</td>\n",
       "      <td>8e5b2e10-a429-49d7-ae1e-2f18791d1e9a</td>\n",
       "      <td>1</td>\n",
       "      <td>155430326</td>\n",
       "      <td>188190086</td>\n",
       "      <td>21221</td>\n",
       "      <td>0.0191</td>\n",
       "    </tr>\n",
       "    <tr>\n",
       "      <td>3</td>\n",
       "      <td>8e5b2e10-a429-49d7-ae1e-2f18791d1e9a</td>\n",
       "      <td>1</td>\n",
       "      <td>188193196</td>\n",
       "      <td>189979516</td>\n",
       "      <td>921</td>\n",
       "      <td>-0.8394</td>\n",
       "    </tr>\n",
       "    <tr>\n",
       "      <td>4</td>\n",
       "      <td>8e5b2e10-a429-49d7-ae1e-2f18791d1e9a</td>\n",
       "      <td>1</td>\n",
       "      <td>189984414</td>\n",
       "      <td>206989616</td>\n",
       "      <td>10238</td>\n",
       "      <td>0.0262</td>\n",
       "    </tr>\n",
       "  </tbody>\n",
       "</table>\n",
       "</div>"
      ],
      "text/plain": [
       "                            GDC_Aliquot Chromosome      Start        End  \\\n",
       "0  8e5b2e10-a429-49d7-ae1e-2f18791d1e9a          1    3301765  155210675   \n",
       "1  8e5b2e10-a429-49d7-ae1e-2f18791d1e9a          1  155241876  155429147   \n",
       "2  8e5b2e10-a429-49d7-ae1e-2f18791d1e9a          1  155430326  188190086   \n",
       "3  8e5b2e10-a429-49d7-ae1e-2f18791d1e9a          1  188193196  189979516   \n",
       "4  8e5b2e10-a429-49d7-ae1e-2f18791d1e9a          1  189984414  206989616   \n",
       "\n",
       "   Num_Probes  Segment_Mean  \n",
       "0       70457        0.0181  \n",
       "1         102        0.5199  \n",
       "2       21221        0.0191  \n",
       "3         921       -0.8394  \n",
       "4       10238        0.0262  "
      ]
     },
     "execution_count": 32,
     "metadata": {},
     "output_type": "execute_result"
    }
   ],
   "source": [
    "snows_bed.head()"
   ]
  },
  {
   "cell_type": "code",
   "execution_count": null,
   "metadata": {},
   "outputs": [],
   "source": []
  }
 ],
 "metadata": {
  "kernelspec": {
   "display_name": "Python 3",
   "language": "python",
   "name": "python3"
  },
  "language_info": {
   "codemirror_mode": {
    "name": "ipython",
    "version": 3
   },
   "file_extension": ".py",
   "mimetype": "text/x-python",
   "name": "python",
   "nbconvert_exporter": "python",
   "pygments_lexer": "ipython3",
   "version": "3.7.4"
  }
 },
 "nbformat": 4,
 "nbformat_minor": 4
}
